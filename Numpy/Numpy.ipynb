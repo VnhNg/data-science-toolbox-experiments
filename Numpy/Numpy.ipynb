{
 "cells": [
  {
   "cell_type": "code",
   "execution_count": 1,
   "id": "d1b26436-5543-46b5-ad63-3e64d40c74ad",
   "metadata": {},
   "outputs": [
    {
     "name": "stdout",
     "output_type": "stream",
     "text": [
      "1.26.4\n"
     ]
    }
   ],
   "source": [
    "import numpy as np\n",
    "\n",
    "print(np.__version__)"
   ]
  },
  {
   "cell_type": "markdown",
   "id": "ecbe37c2-6062-4a7d-893d-c7e631fb6586",
   "metadata": {},
   "source": [
    "# Array creation"
   ]
  },
  {
   "cell_type": "markdown",
   "id": "6426c03e-374d-4cef-b874-3fc7860963c0",
   "metadata": {},
   "source": [
    "## 1.Converting Python sequences to NumPy arrays"
   ]
  },
  {
   "cell_type": "code",
   "execution_count": 2,
   "id": "d68767c4-3e36-4af6-84f8-f83ac2f6d570",
   "metadata": {},
   "outputs": [
    {
     "name": "stdout",
     "output_type": "stream",
     "text": [
      "a1D = [1 2 3 4]\n",
      "a2D =\n",
      " [[1 2]\n",
      " [3 4]]\n"
     ]
    }
   ],
   "source": [
    "# 1D array\n",
    "a1D = np.array([1, 2, 3, 4])\n",
    "print(\"a1D =\", a1D)\n",
    "\n",
    "# 2D array\n",
    "a2D = np.array([[1, 2], [3, 4]])\n",
    "print(\"a2D =\\n\", a2D)"
   ]
  },
  {
   "cell_type": "markdown",
   "id": "1c1caed0-480f-4054-89ce-8f2333b70e6f",
   "metadata": {},
   "source": [
    "## 2.Intrinsic NumPy array creation functions"
   ]
  },
  {
   "cell_type": "markdown",
   "id": "0142aeed-07f4-4170-b7fe-9e0738bb870d",
   "metadata": {},
   "source": [
    "1D array"
   ]
  },
  {
   "cell_type": "code",
   "execution_count": 3,
   "id": "90771088-0ee4-4a81-a8aa-d1c9aafb3ded",
   "metadata": {},
   "outputs": [
    {
     "name": "stdout",
     "output_type": "stream",
     "text": [
      "arr1 = [ 2  4  6  8 10]\n"
     ]
    }
   ],
   "source": [
    "# arange\n",
    "arr1 = np.arange(2, 11, 2)\n",
    "print(\"arr1 =\", arr1)"
   ]
  },
  {
   "cell_type": "code",
   "execution_count": 4,
   "id": "7980f3db-fe02-42d3-9545-c827b209b624",
   "metadata": {},
   "outputs": [
    {
     "name": "stdout",
     "output_type": "stream",
     "text": [
      "arr2 = [ 1.  2.  3.  4.  5.  6.  7.  8.  9. 10.]\n",
      "step = 1.0\n"
     ]
    }
   ],
   "source": [
    "# linspace\n",
    "arr2, step = np.linspace(1, 10, num=10, endpoint=True, retstep=True)\n",
    "print(\"arr2 =\", arr2)\n",
    "print(\"step =\", step)"
   ]
  },
  {
   "cell_type": "markdown",
   "id": "bd9f68ea-d569-40b4-82e7-740c9c9af4b7",
   "metadata": {},
   "source": [
    "2D array"
   ]
  },
  {
   "cell_type": "code",
   "execution_count": 5,
   "id": "ca7fb8d7-713c-418f-8391-0069ac18448d",
   "metadata": {},
   "outputs": [
    {
     "name": "stdout",
     "output_type": "stream",
     "text": [
      "np.eye(4, 3) =\n",
      " [[1. 0. 0.]\n",
      " [0. 1. 0.]\n",
      " [0. 0. 1.]\n",
      " [0. 0. 0.]]\n"
     ]
    }
   ],
   "source": [
    "# Identity-like matrix \n",
    "eye_mat = np.eye(4, 3)\n",
    "print(\"np.eye(4, 3) =\\n\", eye_mat)"
   ]
  },
  {
   "cell_type": "code",
   "execution_count": 6,
   "id": "37717d5d-dafa-4531-86c3-a909c17cf975",
   "metadata": {},
   "outputs": [
    {
     "name": "stdout",
     "output_type": "stream",
     "text": [
      "np.diag([1, 2, 3], k=1) =\n",
      " [[0 1 0 0]\n",
      " [0 0 2 0]\n",
      " [0 0 0 3]\n",
      " [0 0 0 0]]\n",
      "\n",
      "np.diag([[1, 2, 1], [3, 4, 1]], k=1) =\n",
      " [2 1]\n"
     ]
    }
   ],
   "source": [
    "# Diagonal matrix from list, shifted by k=1\n",
    "diag1 = np.diag([1, 2, 3], k=1)\n",
    "print(\"np.diag([1, 2, 3], k=1) =\\n\", diag1)\n",
    "\n",
    "# Extract diagonal with offset from 2D array\n",
    "diag2 = np.diag([[1, 2, 1], [3, 4, 1]], k=1)\n",
    "print(\"\\nnp.diag([[1, 2, 1], [3, 4, 1]], k=1) =\\n\", diag2)"
   ]
  },
  {
   "cell_type": "code",
   "execution_count": 7,
   "id": "ce7cfc5e-84d4-4792-bc4f-2359502cdf2b",
   "metadata": {},
   "outputs": [
    {
     "name": "stdout",
     "output_type": "stream",
     "text": [
      "np.vander((1, 2, 3, 4), 4) =\n",
      " [[ 1  1  1  1]\n",
      " [ 8  4  2  1]\n",
      " [27  9  3  1]\n",
      " [64 16  4  1]]\n"
     ]
    }
   ],
   "source": [
    "# Vandermonde matrix\n",
    "vander_mat = np.vander((1, 2, 3, 4), 4)\n",
    "print(\"np.vander((1, 2, 3, 4), 4) =\\n\", vander_mat)"
   ]
  },
  {
   "cell_type": "markdown",
   "id": "01349149-c1bd-4f8b-988c-6646ae86dab6",
   "metadata": {},
   "source": [
    "general nD array"
   ]
  },
  {
   "cell_type": "code",
   "execution_count": 8,
   "id": "94d64401-484d-4cc7-b2a3-f48d4602dc58",
   "metadata": {
    "scrolled": true
   },
   "outputs": [
    {
     "name": "stdout",
     "output_type": "stream",
     "text": [
      "np.zeros((3, 3, 2), order='C') =\n",
      " [[[0. 0.]\n",
      "  [0. 0.]\n",
      "  [0. 0.]]\n",
      "\n",
      " [[0. 0.]\n",
      "  [0. 0.]\n",
      "  [0. 0.]]\n",
      "\n",
      " [[0. 0.]\n",
      "  [0. 0.]\n",
      "  [0. 0.]]]\n"
     ]
    }
   ],
   "source": [
    "# Fill with zeros\n",
    "zeros_arr = np.zeros((3, 3, 2), order=\"C\")\n",
    "print(\"np.zeros((3, 3, 2), order='C') =\\n\", zeros_arr)"
   ]
  },
  {
   "cell_type": "code",
   "execution_count": 9,
   "id": "9c7d8a3b-5b66-430a-bd7f-7238400c332c",
   "metadata": {},
   "outputs": [
    {
     "name": "stdout",
     "output_type": "stream",
     "text": [
      "np.ones((3, 3, 2), order='F') =\n",
      " [[[1. 1.]\n",
      "  [1. 1.]\n",
      "  [1. 1.]]\n",
      "\n",
      " [[1. 1.]\n",
      "  [1. 1.]\n",
      "  [1. 1.]]\n",
      "\n",
      " [[1. 1.]\n",
      "  [1. 1.]\n",
      "  [1. 1.]]]\n"
     ]
    }
   ],
   "source": [
    "# Fill with ones\n",
    "ones_arr = np.ones((3, 3, 2), order=\"F\")\n",
    "print(\"np.ones((3, 3, 2), order='F') =\\n\", ones_arr)"
   ]
  },
  {
   "cell_type": "code",
   "execution_count": 10,
   "id": "399ffe6d-d9c3-44a8-9707-426198199f4a",
   "metadata": {},
   "outputs": [
    {
     "name": "stdout",
     "output_type": "stream",
     "text": [
      "default_rng(42).random((3, 3, 2)) =\n",
      " [[[0.77395605 0.43887844]\n",
      "  [0.85859792 0.69736803]\n",
      "  [0.09417735 0.97562235]]\n",
      "\n",
      " [[0.7611397  0.78606431]\n",
      "  [0.12811363 0.45038594]\n",
      "  [0.37079802 0.92676499]]\n",
      "\n",
      " [[0.64386512 0.82276161]\n",
      "  [0.4434142  0.22723872]\n",
      "  [0.55458479 0.06381726]]]\n"
     ]
    }
   ],
   "source": [
    "# Fill with random values between 0 and 1\n",
    "from numpy.random import default_rng\n",
    "rng = default_rng(42)\n",
    "rand_arr = rng.random((3, 3, 2))\n",
    "print(\"default_rng(42).random((3, 3, 2)) =\\n\", rand_arr)"
   ]
  },
  {
   "cell_type": "code",
   "execution_count": 11,
   "id": "e9735ef1-898e-41d7-8f4a-e1ef002ef1a9",
   "metadata": {},
   "outputs": [
    {
     "name": "stdout",
     "output_type": "stream",
     "text": [
      "np.indices((2, 3, 4), sparse=True) =\n",
      "Dimension 0:\n",
      "[[[0]]\n",
      "\n",
      " [[1]]]\n",
      "\n",
      "Dimension 1:\n",
      "[[[0]\n",
      "  [1]\n",
      "  [2]]]\n",
      "\n",
      "Dimension 2:\n",
      "[[[0 1 2 3]]]\n",
      "\n"
     ]
    }
   ],
   "source": [
    "# Indices \n",
    "idx = np.indices((2, 3, 4), sparse=True)\n",
    "print(\"np.indices((2, 3, 4), sparse=True) =\")\n",
    "for i, arr in enumerate(idx):\n",
    "    print(f\"Dimension {i}:\\n{arr}\\n\")"
   ]
  },
  {
   "cell_type": "markdown",
   "id": "76786d89-59a0-4c7e-9caa-7ce9523ed366",
   "metadata": {},
   "source": [
    "## 3.Replicating, joining, or mutating existing arrays"
   ]
  },
  {
   "cell_type": "markdown",
   "id": "adab2040-bbb1-4a44-ac16-78e5000db7c2",
   "metadata": {},
   "source": [
    "view"
   ]
  },
  {
   "cell_type": "code",
   "execution_count": 12,
   "id": "390dd8cc-6279-4a0c-8365-9f94e1bee1e8",
   "metadata": {},
   "outputs": [
    {
     "name": "stdout",
     "output_type": "stream",
     "text": [
      "origin = [1. 1. 0. 0.] view = [1. 1.]\n"
     ]
    }
   ],
   "source": [
    "origin = np.zeros(4)\n",
    "view = origin[:2]\n",
    "view += 1\n",
    "print('origin =', origin, 'view =', view)"
   ]
  },
  {
   "cell_type": "markdown",
   "id": "f1777c17-312a-415a-9e1b-c35169693715",
   "metadata": {},
   "source": [
    "copy"
   ]
  },
  {
   "cell_type": "code",
   "execution_count": 13,
   "id": "593994e3-6db1-43ff-854e-bc3ce83a9c1a",
   "metadata": {},
   "outputs": [
    {
     "name": "stdout",
     "output_type": "stream",
     "text": [
      "origin = [0. 0. 0. 0.] copy = [1. 1.]\n"
     ]
    }
   ],
   "source": [
    "origin = np.zeros(4)\n",
    "copy = origin[:2].copy()\n",
    "copy += 1\n",
    "print('origin =', origin, 'copy =', copy)"
   ]
  },
  {
   "cell_type": "markdown",
   "id": "8a1f799a-d74b-44bb-8dfb-880a544235df",
   "metadata": {},
   "source": [
    "join"
   ]
  },
  {
   "cell_type": "code",
   "execution_count": 56,
   "id": "885678f9-03bf-4bff-acf1-b9c4bc56b667",
   "metadata": {},
   "outputs": [
    {
     "name": "stdout",
     "output_type": "stream",
     "text": [
      "A =\n",
      " [[1 0 0]\n",
      " [0 2 0]\n",
      " [0 0 3]] \n",
      "\n",
      "B =\n",
      " [[1 1 1]\n",
      " [4 2 1]\n",
      " [9 3 1]] \n",
      "\n",
      "np.block([A, B]) =\n",
      " [[1 0 0 1 1 1]\n",
      " [0 2 0 4 2 1]\n",
      " [0 0 3 9 3 1]] \n",
      "\n",
      "np.block([[A],[B]]) =\n",
      " [[1 0 0]\n",
      " [0 2 0]\n",
      " [0 0 3]\n",
      " [1 1 1]\n",
      " [4 2 1]\n",
      " [9 3 1]]\n"
     ]
    }
   ],
   "source": [
    "A = np.diag([1, 2, 3])   \n",
    "B = np.vander((1, 2, 3), 3)  \n",
    "print(\"A =\\n\", A, \"\\n\")\n",
    "print(\"B =\\n\", B, \"\\n\")\n",
    "\n",
    "C1 = np.block([A, B])\n",
    "print(\"np.block([A, B]) =\\n\", C1, \"\\n\")\n",
    "C2 = np.block([[A], [B]])\n",
    "print(\"np.block([[A],[B]]) =\\n\", C2)"
   ]
  },
  {
   "cell_type": "markdown",
   "id": "abb282d0-855b-4b5b-bb5c-74810c01eb76",
   "metadata": {},
   "source": [
    "## 4.Attribute"
   ]
  },
  {
   "cell_type": "code",
   "execution_count": 136,
   "id": "3e29e100-9850-471c-b6c5-ef072b941e6b",
   "metadata": {},
   "outputs": [
    {
     "name": "stdout",
     "output_type": "stream",
     "text": [
      "dimensions:  2\n",
      "shape:  (5, 2)\n",
      "size:  10\n"
     ]
    }
   ],
   "source": [
    "a = np.arange(10).reshape(5, 2)\n",
    "print('dimensions: ', a.ndim)\n",
    "print('shape: ', a.shape)\n",
    "print('size: ', a.size)"
   ]
  },
  {
   "cell_type": "markdown",
   "id": "2c7a80c6-dca8-4370-8fc5-fa03d7adf6dc",
   "metadata": {},
   "source": [
    "# Indexing"
   ]
  },
  {
   "cell_type": "markdown",
   "id": "36e0e057-9b48-4e7b-82d3-12d128a789c4",
   "metadata": {},
   "source": [
    "## 1.Basic indexing"
   ]
  },
  {
   "cell_type": "markdown",
   "id": "6ed6467b-780e-462d-8730-4b690038ec86",
   "metadata": {},
   "source": [
    "Single element indexing"
   ]
  },
  {
   "cell_type": "code",
   "execution_count": 100,
   "id": "4cd8dba7-11ef-47d6-ae6a-6407a7397328",
   "metadata": {},
   "outputs": [
    {
     "name": "stdout",
     "output_type": "stream",
     "text": [
      "[[0 1 2 3 4]\n",
      " [5 6 7 8 9]]\n",
      "8\n"
     ]
    },
    {
     "data": {
      "text/plain": [
       "array([4, 9])"
      ]
     },
     "execution_count": 100,
     "metadata": {},
     "output_type": "execute_result"
    }
   ],
   "source": [
    "x = np.arange(10)\n",
    "x.shape = (2, 5)\n",
    "print(x)\n",
    "print(x[1, 3])"
   ]
  },
  {
   "cell_type": "markdown",
   "id": "2f914209-92bf-4be1-aa40-81c9cbf0bca8",
   "metadata": {},
   "source": [
    "Slicing and striding"
   ]
  },
  {
   "cell_type": "code",
   "execution_count": 16,
   "id": "39cf3217-bb6d-4440-a39f-6e8ef1ee28bf",
   "metadata": {},
   "outputs": [
    {
     "name": "stdout",
     "output_type": "stream",
     "text": [
      "x[1:7:2] = [1 3 5]\n",
      "x[7:1:-2] = [7 5 3]\n"
     ]
    }
   ],
   "source": [
    "x = np.arange(10)\n",
    "print(\"x[1:7:2] =\", x[1:7:2])   \n",
    "print(\"x[7:1:-2] =\", x[7:1:-2]) "
   ]
  },
  {
   "cell_type": "code",
   "execution_count": 17,
   "id": "30059636-4e2a-4d5c-a928-5a66b13a97b1",
   "metadata": {},
   "outputs": [
    {
     "name": "stdout",
     "output_type": "stream",
     "text": [
      "x.shape = (2, 3, 1)\n",
      "x[1:2, 0:2] =\n",
      " [[[4]\n",
      "  [5]]]\n"
     ]
    }
   ],
   "source": [
    "x = np.array([[[1],[2],[3]], [[4],[5],[6]]])\n",
    "print(\"x.shape =\", x.shape)\n",
    "print(\"x[1:2, 0:2] =\\n\", x[1:2, 0:2])"
   ]
  },
  {
   "cell_type": "markdown",
   "id": "5d310df6-aaf4-4960-ac2a-ca76bb0e79ce",
   "metadata": {},
   "source": [
    "Dimensional indexing tools"
   ]
  },
  {
   "cell_type": "code",
   "execution_count": 18,
   "id": "d3d2be6b-de81-4887-8743-1a2bcb56493e",
   "metadata": {},
   "outputs": [
    {
     "name": "stdout",
     "output_type": "stream",
     "text": [
      "[[1]\n",
      " [2]\n",
      " [3]]\n"
     ]
    }
   ],
   "source": [
    "# Ellipsis\n",
    "x = np.array([[[1],[2],[3]], [[4],[5],[6]]])\n",
    "print(x[0, ...])  "
   ]
  },
  {
   "cell_type": "code",
   "execution_count": 19,
   "id": "a755b6d6-aad5-4d2e-abc0-008deb90b6ad",
   "metadata": {},
   "outputs": [
    {
     "name": "stdout",
     "output_type": "stream",
     "text": [
      "(2, 1, 3, 1)\n"
     ]
    }
   ],
   "source": [
    "print(x[:, np.newaxis, :, :].shape)"
   ]
  },
  {
   "cell_type": "code",
   "execution_count": 54,
   "id": "cfed7929-ef55-4030-9497-f2bc91bce30f",
   "metadata": {},
   "outputs": [
    {
     "name": "stdout",
     "output_type": "stream",
     "text": [
      "[[0 1 2 3 4]\n",
      " [1 2 3 4 5]\n",
      " [2 3 4 5 6]\n",
      " [3 4 5 6 7]\n",
      " [4 5 6 7 8]]\n"
     ]
    }
   ],
   "source": [
    "# Broadcasting with None/np.newaxis\n",
    "x = np.arange(5)\n",
    "print(x[:, None] + x[None, :])"
   ]
  },
  {
   "cell_type": "markdown",
   "id": "98cdbad5-02e3-4dfe-af3c-fdd9609ff524",
   "metadata": {},
   "source": [
    "## 2.Advanced indexing"
   ]
  },
  {
   "cell_type": "markdown",
   "id": "fd42a0f1-8e0a-4c6d-b9b4-866027bc8ed8",
   "metadata": {},
   "source": [
    "Integer array indexing"
   ]
  },
  {
   "cell_type": "code",
   "execution_count": 3,
   "id": "27787b1b-374d-4e48-b914-74e3dcacbb2c",
   "metadata": {},
   "outputs": [
    {
     "name": "stdout",
     "output_type": "stream",
     "text": [
      "[[1 2]\n",
      " [5 6]] \n",
      "\n",
      "[1 6]\n"
     ]
    }
   ],
   "source": [
    "x = np.array([[1, 2], \n",
    "              [3, 4], \n",
    "              [5, 6]])\n",
    "# Single index array\n",
    "print(x[ [0, -1] ], '\\n')\n",
    "\n",
    "# Multiple index array\n",
    "print(x[ [0, -1], [0, -1] ])"
   ]
  },
  {
   "cell_type": "code",
   "execution_count": 4,
   "id": "d3eba728-99f9-4adf-9b29-76608f23ef77",
   "metadata": {},
   "outputs": [
    {
     "name": "stdout",
     "output_type": "stream",
     "text": [
      "Index array shape:  (2, 1)\n",
      "[[[1 2]]\n",
      "\n",
      " [[5 6]]] \n",
      " with shape:  (2, 1, 2) \n",
      "\n",
      "Index array shape:  (1, 2)\n",
      "[[[1 2]\n",
      "  [5 6]]] \n",
      " with shape:  (1, 2, 2)\n"
     ]
    }
   ],
   "source": [
    "# Multidimensional index array\n",
    "index_array1 = np.array([[0], \n",
    "                         [-1]])\n",
    "print('Index array shape: ',  index_array1.shape)\n",
    "print(x[index_array1], '\\n with shape: ', x[index_array1].shape, '\\n')\n",
    "\n",
    "index_array2 = np.array([[0,-1]])\n",
    "print('Index array shape: ',  index_array2.shape)\n",
    "print(x[index_array2], '\\n with shape: ', x[index_array2].shape)"
   ]
  },
  {
   "cell_type": "code",
   "execution_count": 5,
   "id": "17b3730d-f7fa-4b16-96f6-18fde6046760",
   "metadata": {},
   "outputs": [
    {
     "name": "stdout",
     "output_type": "stream",
     "text": [
      "Broadcasting:\n",
      "[[1 5]\n",
      " [2 6]] \n",
      "\n",
      "Explicit:\n",
      "[[1 5]\n",
      " [2 6]]\n"
     ]
    }
   ],
   "source": [
    "# Broadcasting index array\n",
    "array = np.array([0, -1])\n",
    "row = array[None, :]\n",
    "rows = np.block([[row], [row]])\n",
    "column = array[:, None]\n",
    "columns = np.block([column, column])\n",
    "\n",
    "print('Broadcasting:')\n",
    "print(x[row, column], '\\n')\n",
    "print('Explicit:')\n",
    "print(x[rows, columns])"
   ]
  },
  {
   "cell_type": "markdown",
   "id": "90337fe7-9be1-4b47-9d3b-4a6c26f72206",
   "metadata": {},
   "source": [
    "Boolean array indexing"
   ]
  },
  {
   "cell_type": "code",
   "execution_count": 6,
   "id": "1f7b0a5d-e413-4845-affa-121c6f7cbaab",
   "metadata": {},
   "outputs": [
    {
     "name": "stdout",
     "output_type": "stream",
     "text": [
      "[ 8 24 32]\n",
      "[ 8 24 32]\n"
     ]
    }
   ],
   "source": [
    "x = np.arange(35).reshape(5, 7)\n",
    "print(x[ [False, True, False,  True,  True], [False, True, False,  True,  True, False, False]])\n",
    "print(x[ [1,3,4], [1,3,4]])"
   ]
  },
  {
   "cell_type": "markdown",
   "id": "0fa98c3e-0789-4c3a-8408-ebf510ae1298",
   "metadata": {},
   "source": [
    "Combining advanced and basic indexing"
   ]
  },
  {
   "cell_type": "code",
   "execution_count": 21,
   "id": "ab6e198b-e0b7-4798-ae39-a05c3ed2bb73",
   "metadata": {},
   "outputs": [
    {
     "data": {
      "text/plain": [
       "array([[22, 23],\n",
       "       [29, 30]])"
      ]
     },
     "execution_count": 21,
     "metadata": {},
     "output_type": "execute_result"
    }
   ],
   "source": [
    "x = np.arange(35).reshape(5, 7)\n",
    "b = x > 20\n",
    "x[b[:, 5], 1:3]"
   ]
  },
  {
   "cell_type": "markdown",
   "id": "0d14fb0b-c001-47c6-99b3-a0281e8b7ab7",
   "metadata": {},
   "source": [
    "## 3.Field access"
   ]
  },
  {
   "cell_type": "code",
   "execution_count": 119,
   "id": "af5a60f2-4a8b-4d5a-8b8d-932f51a30fe7",
   "metadata": {},
   "outputs": [
    {
     "name": "stdout",
     "output_type": "stream",
     "text": [
      "(2, 2)\n",
      "int32\n",
      "(2, 2, 3, 3)\n",
      "float64\n",
      "[[(0, [[0., 0., 0.], [0., 0., 0.], [0., 0., 0.]])\n",
      "  (0, [[0., 0., 0.], [0., 0., 0.], [0., 0., 0.]])]\n",
      " [(0, [[0., 0., 0.], [0., 0., 0.], [0., 0., 0.]])\n",
      "  (0, [[0., 0., 0.], [0., 0., 0.], [0., 0., 0.]])]]\n"
     ]
    }
   ],
   "source": [
    "x = np.zeros((2, 2), dtype=[('a', np.int32), ('b', np.float64, (3, 3))])\n",
    "\n",
    "print(x['a'].shape)\n",
    "print(x['a'].dtype)\n",
    "\n",
    "print(x['b'].shape)\n",
    "print(x['b'].dtype)\n",
    "\n",
    "print(x)"
   ]
  },
  {
   "cell_type": "markdown",
   "id": "c333cf48-51a0-4090-bb5b-d915aae56e09",
   "metadata": {},
   "source": [
    "# Operations"
   ]
  },
  {
   "cell_type": "markdown",
   "id": "f1f54c89-ba2a-4034-8eee-0217b9cde287",
   "metadata": {},
   "source": [
    "## 1.Elementwise"
   ]
  },
  {
   "cell_type": "code",
   "execution_count": 141,
   "id": "448fa5fb-547a-49a4-ab64-11bfdb01fd97",
   "metadata": {},
   "outputs": [
    {
     "name": "stdout",
     "output_type": "stream",
     "text": [
      "[1 2] + [1 1] = [2 3]\n",
      "[1 2] - [1 1] = [0 1]\n",
      "[1 2] * [1 1] = [1 2]\n",
      "[1 2] / [1 1] = [1. 2.]\n"
     ]
    }
   ],
   "source": [
    "\n",
    "A = np.array([1, 2])\n",
    "B = np.ones(2, dtype=int)\n",
    "print(A, '+', B, '=', A+B)\n",
    "print(A, '-', B, '=', A-B)\n",
    "print(A, '*', B, '=', A*B)\n",
    "print(A, '/', B, '=', A/B)"
   ]
  },
  {
   "cell_type": "markdown",
   "id": "8a191abb-0a2a-4678-86e6-211fecf427de",
   "metadata": {},
   "source": [
    "## 2.Along axis"
   ]
  },
  {
   "cell_type": "code",
   "execution_count": 4,
   "id": "b4bc6616-6165-4c0a-a32f-af2e673a7818",
   "metadata": {},
   "outputs": [
    {
     "name": "stdout",
     "output_type": "stream",
     "text": [
      "[[1 2]\n",
      " [3 4]] \n",
      "\n",
      "axis = 0:\n",
      "[4 6] \n",
      "\n",
      "axis = 1:\n",
      "[3 7]\n"
     ]
    }
   ],
   "source": [
    "a = np.array([1, 2, 3, 4])\n",
    "a.sum()\n",
    "# Choose specific axis\n",
    "b = a.reshape(2,2)\n",
    "print(b, '\\n')\n",
    "print('axis = 0:')\n",
    "print(b.sum(axis=0), '\\n')\n",
    "\n",
    "print('axis = 1:')\n",
    "print(b.sum(axis=1))"
   ]
  },
  {
   "cell_type": "code",
   "execution_count": 16,
   "id": "d1955152-3142-4733-8beb-e564a60d09e9",
   "metadata": {},
   "outputs": [
    {
     "name": "stdout",
     "output_type": "stream",
     "text": [
      "min:  1\n",
      "max:  4\n",
      "product:  24\n",
      "mean:  2.5\n",
      "standard deviation:  1.118033988749895\n"
     ]
    }
   ],
   "source": [
    "# Other functions\n",
    "\n",
    "print('min: ', b.min())\n",
    "print('max: ', b.max())\n",
    "print('product: ', b.prod())\n",
    "print('mean: ', b.mean())\n",
    "print('standard deviation: ', b.std())"
   ]
  },
  {
   "cell_type": "markdown",
   "id": "0ae00973-c476-42ec-ac2d-aacbdbaa88a6",
   "metadata": {},
   "source": [
    "## 2."
   ]
  }
 ],
 "metadata": {
  "kernelspec": {
   "display_name": "Python 3 (Spyder)",
   "language": "python3",
   "name": "python3"
  },
  "language_info": {
   "codemirror_mode": {
    "name": "ipython",
    "version": 3
   },
   "file_extension": ".py",
   "mimetype": "text/x-python",
   "name": "python",
   "nbconvert_exporter": "python",
   "pygments_lexer": "ipython3",
   "version": "3.12.3"
  }
 },
 "nbformat": 4,
 "nbformat_minor": 5
}
